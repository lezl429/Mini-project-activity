{
 "cells": [
  {
   "cell_type": "code",
   "execution_count": 26,
   "id": "d12b9ae1",
   "metadata": {},
   "outputs": [],
   "source": [
    "import cv2\n",
    "\n",
    "# Load the video\n",
    "video_path = \"C:\\\\Users\\\\lezho\\\\OneDrive\\\\Desktop\\\\img_pexels.mp4\"\n",
    "video = cv2.VideoCapture(video_path)\n",
    "\n",
    "# Get the original video's properties\n",
    "width = int(video.get(cv2.CAP_PROP_FRAME_WIDTH))\n",
    "height = int(video.get(cv2.CAP_PROP_FRAME_HEIGHT))\n",
    "fps = video.get(cv2.CAP_PROP_FPS)\n",
    "\n",
    "# Define the desired smaller frame size\n",
    "new_width = 320\n",
    "new_height = 240\n",
    "\n",
    "# Create a VideoWriter object to save the resized video\n",
    "output_path = \"C:\\\\Users\\\\lezho\\\\OneDrive\\\\Desktop\\\\smaller_img_pexels.mp4\"  # or \"smaller_img_pexels.avi\"\n",
    "fourcc = cv2.VideoWriter_fourcc(*\"mp4v\")  # or \"XVID\" for .avi format\n",
    "video_out = cv2.VideoWriter(output_path, fourcc, fps, (new_width, new_height))\n",
    "\n",
    "# Read and process each frame of the original video\n",
    "while True:\n",
    "    ret, frame = video.read()\n",
    "    \n",
    "    if not ret:\n",
    "        break\n",
    "    \n",
    "    # Resize the frame to the desired smaller size\n",
    "    resized_frame = cv2.resize(frame, (new_width, new_height))\n",
    "    \n",
    "    # Display the resized frame\n",
    "    cv2.imshow(\"Resized Video\", resized_frame)\n",
    "    if cv2.waitKey(1) & 0xFF == ord('q'):\n",
    "        break\n",
    "    \n",
    "    # Write the resized frame to the output video file\n",
    "    video_out.write(resized_frame)\n",
    "\n",
    "# Release the resources\n",
    "video.release()\n",
    "video_out.release()\n",
    "cv2.destroyAllWindows()"
   ]
  },
  {
   "cell_type": "code",
   "execution_count": 30,
   "id": "7d3fdb77",
   "metadata": {},
   "outputs": [],
   "source": [
    "import cv2\n",
    "\n",
    "# Load the original image\n",
    "image_path = \"C:\\\\Users\\\\lezho\\\\OneDrive\\\\Desktop\\\\dog.jfif\"\n",
    "image = cv2.imread(image_path)\n",
    "\n",
    "# Define scaling factor\n",
    "scaling_factor = 2\n",
    "\n",
    "# Perform linear interpolation\n",
    "linear_image = cv2.resize(image, None, fx=scaling_factor, fy=scaling_factor, interpolation=cv2.INTER_LINEAR)\n",
    "\n",
    "# Perform cubic interpolation\n",
    "cubic_image = cv2.resize(image, None, fx=scaling_factor, fy=scaling_factor, interpolation=cv2.INTER_CUBIC)\n",
    "\n",
    "# Perform nearest neighbor interpolation\n",
    "nearest_image = cv2.resize(image, None, fx=scaling_factor, fy=scaling_factor, interpolation=cv2.INTER_NEAREST)\n",
    "\n",
    "# Display the upscaled images\n",
    "cv2.imshow(\"Linear Interpolation\", linear_image)\n",
    "cv2.imshow(\"Cubic Interpolation\", cubic_image)\n",
    "cv2.imshow(\"Nearest Neighbor Interpolation\", nearest_image)\n",
    "cv2.waitKey(0)\n",
    "cv2.destroyAllWindows()"
   ]
  }
 ],
 "metadata": {
  "kernelspec": {
   "display_name": "Python 3 (ipykernel)",
   "language": "python",
   "name": "python3"
  },
  "language_info": {
   "codemirror_mode": {
    "name": "ipython",
    "version": 3
   },
   "file_extension": ".py",
   "mimetype": "text/x-python",
   "name": "python",
   "nbconvert_exporter": "python",
   "pygments_lexer": "ipython3",
   "version": "3.11.4"
  }
 },
 "nbformat": 4,
 "nbformat_minor": 5
}
