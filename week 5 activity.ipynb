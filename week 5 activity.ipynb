{
 "cells": [
  {
   "cell_type": "code",
   "execution_count": 1,
   "id": "1feb7b03",
   "metadata": {},
   "outputs": [],
   "source": [
    "import cv2 as cv\n",
    "import imutils\n",
    "import numpy as np"
   ]
  },
  {
   "cell_type": "code",
   "execution_count": 2,
   "id": "bd647d93",
   "metadata": {},
   "outputs": [],
   "source": [
    "def show_img(window_name, img, adjust=False):\n",
    "    \"\"\"3 arguments: window name, source images, boolean to adjust to screen size\"\"\"\n",
    "    if adjust:\n",
    "        cv.namedWindow(window_name, cv.WINDOW_NORMAL)\n",
    "    else:\n",
    "        cv.namedWindow(window_name)\n",
    "\n",
    "    cv.imshow(window_name, img)\n",
    "    cv.waitKey(0)\n",
    "    cv.destroyAllWindows()"
   ]
  },
  {
   "cell_type": "code",
   "execution_count": 7,
   "id": "6a73e32a",
   "metadata": {},
   "outputs": [],
   "source": [
    "#Q1\n",
    "\n",
    "img = cv.imread(\"C:\\\\Users\\\\lezho\\\\Downloads\\\\lena.jfif\")\n",
    "\n",
    "# Get the image dimensions\n",
    "(h, w) = img.shape[:2]\n",
    "\n",
    "# Calculate the center of the image\n",
    "center = (w // 2, h // 2)\n",
    "\n",
    "# Define the rotation angle (in degrees)\n",
    "angle = 45\n",
    "\n",
    "# Calculate the rotation matrix\n",
    "M = cv.getRotationMatrix2D(center, angle, 1.0)\n",
    "\n",
    "# Adjust the transformation matrix to avoid cropping\n",
    "rotated_img = cv.warpAffine(img, M, (w, h))\n",
    "\n",
    "# Display the original and rotated images\n",
    "cv.imshow(\"Original Image\", img)\n",
    "show_img(\"Rotated Image\", rotated_img)"
   ]
  },
  {
   "cell_type": "code",
   "execution_count": 9,
   "id": "ab05b96d",
   "metadata": {},
   "outputs": [],
   "source": [
    "#Q2\n",
    "\n",
    "flower = cv.imread(\"C:\\\\Users\\\\lezho\\\\Downloads\\\\flower.jfif\")\n",
    "bee = cv.imread(\"C:\\\\Users\\\\lezho\\\\Downloads\\\\native-bee.png\")\n",
    "\n",
    "# Define the position to place the flower in the bee image\n",
    "x = 5 \n",
    "y = 5  \n",
    "\n",
    "flower_height, flower_width = flower.shape[:2]\n",
    "\n",
    "# Convert flower image to grayscale\n",
    "gray_flower = cv.cvtColor(flower, cv.COLOR_BGR2GRAY)\n",
    "\n",
    "# Threshold the grayscale flower image to create a mask\n",
    "mask = cv.threshold(gray_flower, 70, 255, cv.THRESH_BINARY)[1]\n",
    "\n",
    "# Invert the mask to keep only non-black pixels\n",
    "mask_inv = cv.bitwise_not(mask)\n",
    "\n",
    "# Extract the region of interest (ROI) from the bee image\n",
    "roi = bee[y_pos:y_pos + flower_height, x_pos:x_pos + flower_width]\n",
    "\n",
    "# Use the mask to keep only the flower pixels and blend it with the ROI\n",
    "roi_result = cv.bitwise_and(roi, roi, mask=mask_inv)\n",
    "flower_result = cv.bitwise_and(flower, flower, mask=mask)\n",
    "result = cv.add(roi_result, flower_result)\n",
    "\n",
    "# Place the modified ROI back into the original bee image\n",
    "bee[y_pos:y_pos + flower_height, x_pos:x_pos + flower_width] = result\n",
    "\n",
    "show_img(\"result\",bee)"
   ]
  },
  {
   "cell_type": "code",
   "execution_count": 12,
   "id": "8819878d",
   "metadata": {},
   "outputs": [],
   "source": [
    "#Q3\n",
    "\n",
    "img = cv.imread(\"C:\\\\Users\\\\lezho\\\\Downloads\\\\native-bee.png\")\n",
    "\n",
    "# Define the custom kernels\n",
    "kernel_3x3 = np.array([[0, -1, 0], [-1, 5, -1], [0, -1, 0]], np.float32)\n",
    "kernel_5x5 = np.array([[-1, -1, -1, -1, -1],\n",
    "                       [-1, -1, -1, -1, -1],\n",
    "                       [-1, -1, 25, -1, -1],\n",
    "                       [-1, -1, -1, -1, -1],\n",
    "                       [-1, -1, -1, -1, -1]], np.float32)\n",
    "\n",
    "# Apply the custom kernels using convolution\n",
    "sharpened_image_3x3 = cv.filter2D(img, -1, kernel_3x3)\n",
    "sharpened_image_5x5 = cv.filter2D(img, -1, kernel_5x5)\n",
    "\n",
    "# Display the original and sharpened images\n",
    "cv.imshow('Original Image', img)\n",
    "cv.imshow('Sharpened Image (3x3 Kernel)', sharpened_image_3x3)\n",
    "show_img('Sharpened Image (5x5 Kernel)', sharpened_image_5x5)"
   ]
  },
  {
   "cell_type": "code",
   "execution_count": 11,
   "id": "287c6a7b",
   "metadata": {},
   "outputs": [],
   "source": [
    "#Q4\n",
    "\n",
    "img = cv.imread(\"C:\\\\Users\\\\lezho\\\\Downloads\\\\noise_lena.jpg\")\n",
    "\n",
    "# Apply average filtering (also known as box filtering)\n",
    "average_filtered_img = cv.blur(img, (5, 5))\n",
    "\n",
    "# Apply Gaussian blurring\n",
    "gaussian_blurred_img = cv.GaussianBlur(img, (5, 5), 0)  \n",
    "\n",
    "# Apply median filtering\n",
    "median_filtered_img = cv.medianBlur(img, 5)  \n",
    "\n",
    "# Display the original and resulting images\n",
    "cv.imshow('Original Image', img)\n",
    "cv.imshow('Average Filtered Image', average_filtered_img)\n",
    "cv.imshow('Gaussian Blurred Image', gaussian_blurred_img)\n",
    "show_img('Median Filtered Image', median_filtered_img)"
   ]
  },
  {
   "cell_type": "markdown",
   "id": "de2f8d15",
   "metadata": {},
   "source": [
    "Average Filtering: Average filtering smooths the image, but it can also muddy the image's edges and features.\n",
    "\n",
    "Gaussian Blurring: The Gaussian kernel reduces the weights of the surrounding pixels while increasing the weights of the core pixels. Edges are better preserved than with average filtering while the Gaussian noise is successfully reduced.\n",
    "\n",
    "Median filtering: Median filtering substitutes the median value of the pixels within the kernel for the value of the pixel at the center of the kernel."
   ]
  }
 ],
 "metadata": {
  "kernelspec": {
   "display_name": "Python 3 (ipykernel)",
   "language": "python",
   "name": "python3"
  },
  "language_info": {
   "codemirror_mode": {
    "name": "ipython",
    "version": 3
   },
   "file_extension": ".py",
   "mimetype": "text/x-python",
   "name": "python",
   "nbconvert_exporter": "python",
   "pygments_lexer": "ipython3",
   "version": "3.11.3"
  }
 },
 "nbformat": 4,
 "nbformat_minor": 5
}
