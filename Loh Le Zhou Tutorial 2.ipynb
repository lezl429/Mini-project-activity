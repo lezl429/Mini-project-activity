{
  "metadata": {
    "language_info": {
      "codemirror_mode": {
        "name": "python",
        "version": 3
      },
      "file_extension": ".py",
      "mimetype": "text/x-python",
      "name": "python",
      "nbconvert_exporter": "python",
      "pygments_lexer": "ipython3",
      "version": "3.8"
    },
    "kernelspec": {
      "name": "python",
      "display_name": "Python (Pyodide)",
      "language": "python"
    }
  },
  "nbformat_minor": 4,
  "nbformat": 4,
  "cells": [
    {
      "cell_type": "code",
      "source": "my_arr=np.arange(10)\nprint(my_arr)\nmy_arr[4:7]=25\nprint(my_arr)\narr_slice=my_arr[4:7]\n# Change the first element of arr_slice to -1\narr_slice[0]=-1\nprint(arr_slice)\nprint(my_arr)",
      "metadata": {
        "trusted": true
      },
      "execution_count": 5,
      "outputs": [
        {
          "name": "stdout",
          "text": "[0 1 2 3 4 5 6 7 8 9]\n[ 0  1  2  3 25 25 25  7  8  9]\n[-1 25 25]\n[ 0  1  2  3 -1 25 25  7  8  9]\n",
          "output_type": "stream"
        }
      ]
    },
    {
      "cell_type": "markdown",
      "source": "We can observe that the modification of arr_slice also affects my_arr, hence they share the same underlying data.",
      "metadata": {}
    },
    {
      "cell_type": "code",
      "source": "#to reassign arr_slice with new value without modifying my_arr\narr_slice = my_arr[4:7].copy()\narr_slice[0] = -1\nprint(arr_slice)\nprint(my_arr)",
      "metadata": {
        "trusted": true
      },
      "execution_count": 7,
      "outputs": [
        {
          "name": "stdout",
          "text": "[-1 25 25]\n[ 0  1  2  3 25 25 25  7  8  9]\n",
          "output_type": "stream"
        }
      ]
    },
    {
      "cell_type": "code",
      "source": "import numpy as np\nimport matplotlib.pyplot as plt\n\n# Dimensions of image\nwidth = 200\nheight = 200\n\n# Create an image with black background\nimage = np.zeros((height, width))\n\n# Get coordinates of the center\ncenter_x = width // 2\ncenter_y = height // 2\n\n# Radius of circle\nradius = 10\n\n# Create a meshgrid of coordinates\nx, y = np.meshgrid(np.arange(width), np.arange(height))\n\n# Distance between each pixel and the center\ndistances = np.sqrt((x - center_x)**2 + (y - center_y)**2)\n\n# Set the pixels within the radius to white\nimage[distances < radius] = 1\n\n# Display the image\nplt.imshow(image, cmap='gray')\nplt.axis('off')\nplt.show()",
      "metadata": {
        "trusted": true
      },
      "execution_count": 12,
      "outputs": [
        {
          "output_type": "display_data",
          "data": {
            "text/plain": "<Figure size 640x480 with 1 Axes>",
            "image/png": "[encoded data removed]"
          },
          "metadata": {}
        }
      ]
    }
  ]
}